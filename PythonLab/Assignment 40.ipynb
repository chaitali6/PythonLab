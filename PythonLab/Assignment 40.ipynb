{
 "cells": [
  {
   "cell_type": "code",
   "execution_count": 1,
   "metadata": {},
   "outputs": [
    {
     "name": "stdout",
     "output_type": "stream",
     "text": [
      "Indices of extreme temperature days: [2 5 9]\n",
      "Temperatures on extreme temperature days: [36.8 38.7 37.2]\n"
     ]
    }
   ],
   "source": [
    "import numpy as np\n",
    "\n",
    "# Input temperatures array\n",
    "temperatures = np.array([32.5, 34.2, 36.8, 29.3, 31.0, 38.7, 23.1, 18.5, 22.8, 37.2])\n",
    "\n",
    "# Identify hot days (temperature > 35 degrees Celsius)\n",
    "hot_days = temperatures > 35\n",
    "\n",
    "# Identify cold days (temperature < 5 degrees Celsius)\n",
    "cold_days = temperatures < 5\n",
    "\n",
    "# Combine hot and cold days\n",
    "extreme_days = hot_days | cold_days\n",
    "\n",
    "# Get the indices of extreme temperature days\n",
    "extreme_days_indices = np.where(extreme_days)[0]\n",
    "\n",
    "# Print the results\n",
    "print(\"Indices of extreme temperature days:\", extreme_days_indices)\n",
    "print(\"Temperatures on extreme temperature days:\", temperatures[extreme_days])\n"
   ]
  },
  {
   "cell_type": "code",
   "execution_count": null,
   "metadata": {},
   "outputs": [],
   "source": []
  }
 ],
 "metadata": {
  "kernelspec": {
   "display_name": "venv",
   "language": "python",
   "name": "python3"
  },
  "language_info": {
   "codemirror_mode": {
    "name": "ipython",
    "version": 3
   },
   "file_extension": ".py",
   "mimetype": "text/x-python",
   "name": "python",
   "nbconvert_exporter": "python",
   "pygments_lexer": "ipython3",
   "version": "3.11.0"
  }
 },
 "nbformat": 4,
 "nbformat_minor": 2
}
