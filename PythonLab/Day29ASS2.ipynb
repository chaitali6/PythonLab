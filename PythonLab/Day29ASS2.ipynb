{
 "cells": [
  {
   "cell_type": "code",
   "execution_count": 3,
   "metadata": {},
   "outputs": [
    {
     "name": "stdout",
     "output_type": "stream",
     "text": [
      "    Region  Manager   SalesMan          Item  Units  Unit_price  Sale_amt\n",
      "0     East   Martha  Alexander    Television     95      1198.0  113810.0\n",
      "1  Central  Hermann     Shelli  Home Theater     50       500.0   25000.0\n",
      "2  Central  Hermann       Luis    Television     36      1198.0   43128.0\n",
      "3  Central  Timothy      David    Cell Phone     27       225.0    6075.0\n",
      "4     West  Timothy    Stephen    Television     56      1198.0   67088.0\n",
      "              Units\n",
      "Item               \n",
      "Cell Phone      278\n",
      "Desk             10\n",
      "Home Theater    722\n",
      "Television      716\n",
      "Video Games     395\n"
     ]
    }
   ],
   "source": [
    "import pandas as pd\n",
    "\n",
    "# Load the CSV file\n",
    "df = pd.read_csv('salesdata.csv')\n",
    "\n",
    "# Display the first few rows to understand the structure (optional)\n",
    "print(df.head())\n",
    "\n",
    "# Create a pivot table to find item-wise units sold\n",
    "pivot_table = df.pivot_table(values='Units', index='Item', aggfunc='sum')\n",
    "\n",
    "# Display the pivot table\n",
    "print(pivot_table)\n",
    "\n",
    "# Output\n",
    "#    Region  Manager   SalesMan          Item  Units  Unit_price  Sale_amt\n",
    "#0     East   Martha  Alexander    Television     95      1198.0  113810.0\n",
    "#1  Central  Hermann     Shelli  Home Theater     50       500.0   25000.0\n",
    "#2  Central  Hermann       Luis    Television     36      1198.0   43128.0\n",
    "#3  Central  Timothy      David    Cell Phone     27       225.0    6075.0\n",
    "#4     West  Timothy    Stephen    Television     56      1198.0   67088.0\n",
    " #             Units\n",
    "#Item               \n",
    "#Cell Phone      278\n",
    "#Desk             10\n",
    "#Home Theater    722\n",
    "#Television      716\n",
    "#Video Games     395\n",
    "\n",
    "\n"
   ]
  },
  {
   "cell_type": "code",
   "execution_count": null,
   "metadata": {},
   "outputs": [],
   "source": []
  }
 ],
 "metadata": {
  "kernelspec": {
   "display_name": "venv",
   "language": "python",
   "name": "python3"
  },
  "language_info": {
   "codemirror_mode": {
    "name": "ipython",
    "version": 3
   },
   "file_extension": ".py",
   "mimetype": "text/x-python",
   "name": "python",
   "nbconvert_exporter": "python",
   "pygments_lexer": "ipython3",
   "version": "3.11.0"
  }
 },
 "nbformat": 4,
 "nbformat_minor": 2
}
