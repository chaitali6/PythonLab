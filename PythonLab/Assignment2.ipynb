{
 "cells": [
  {
   "cell_type": "code",
   "execution_count": 1,
   "metadata": {},
   "outputs": [
    {
     "name": "stdout",
     "output_type": "stream",
     "text": [
      "Numpy Array: [1 2 3 4 5]\n",
      "First element: 1\n",
      "Last element: 5\n",
      "Multiplied Array: [ 2  4  6  8 10]\n"
     ]
    }
   ],
   "source": [
    "import numpy as np\n",
    "\n",
    "# Input list\n",
    "my_list = [1, 2, 3, 4, 5]\n",
    "\n",
    "# Convert the list to a numpy array\n",
    "my_array = np.array(my_list)\n",
    "\n",
    "# Display the numpy array\n",
    "print(\"Numpy Array:\", my_array)\n",
    "\n",
    "# Display the first and last index\n",
    "print(\"First element:\", my_array[0])\n",
    "print(\"Last element:\", my_array[-1])\n",
    "\n",
    "# Multiply each element by 2\n",
    "multiplied_array = my_array * 2\n",
    "\n",
    "# Display the result\n",
    "print(\"Multiplied Array:\", multiplied_array)\n",
    "\n",
    "#Output\n",
    "#Numpy Array: [1 2 3 4 5]\n",
    "#First element: 1\n",
    "#Last element: 5\n",
    "#Multiplied Array: [ 2  4  6  8 10]\n"
   ]
  },
  {
   "cell_type": "code",
   "execution_count": null,
   "metadata": {},
   "outputs": [],
   "source": []
  }
 ],
 "metadata": {
  "kernelspec": {
   "display_name": "venv",
   "language": "python",
   "name": "python3"
  },
  "language_info": {
   "codemirror_mode": {
    "name": "ipython",
    "version": 3
   },
   "file_extension": ".py",
   "mimetype": "text/x-python",
   "name": "python",
   "nbconvert_exporter": "python",
   "pygments_lexer": "ipython3",
   "version": "3.11.0"
  }
 },
 "nbformat": 4,
 "nbformat_minor": 2
}
